{
  "nbformat": 4,
  "nbformat_minor": 0,
  "metadata": {
    "colab": {
      "name": "Multinomial Classification.ipynb",
      "version": "0.3.2",
      "provenance": []
    },
    "kernelspec": {
      "name": "python3",
      "display_name": "Python 3"
    }
  },
  "cells": [
    {
      "metadata": {
        "id": "hrYIL6MgPcwC",
        "colab_type": "code",
        "colab": {
          "base_uri": "https://localhost:8080/",
          "height": 385
        },
        "outputId": "ada21c16-f351-4091-8168-74116e3978c2"
      },
      "cell_type": "code",
      "source": [
        "import tensorflow as tf\n",
        "tf.set_random_seed(777)\n",
        "\n",
        "x_data = [[1, 2, 1, 1],\n",
        "          [2, 1, 3, 2],\n",
        "          [3, 1, 3, 4],\n",
        "          [4, 1, 5, 5],\n",
        "          [1, 7, 5, 5],\n",
        "          [1, 2, 5, 6],\n",
        "          [1, 6, 6, 6],\n",
        "          [1, 7, 7, 7]]\n",
        "y_data = [[0, 0, 1],\n",
        "          [0, 0, 1],\n",
        "          [0, 0, 1],\n",
        "          [0, 1, 0],\n",
        "          [0, 1, 0],\n",
        "          [0, 1, 0],\n",
        "          [1, 0, 0],\n",
        "          [1, 0, 0]]\n",
        "x_data_test = [[1, 11, 7, 9],\n",
        "               [1, 3, 4, 3],\n",
        "               [1, 1, 0, 1]]\n",
        "\n",
        "nb_classes = 3\n",
        "\n",
        "X = tf.placeholder(tf.float32, shape = [None, 4])\n",
        "Y = tf.placeholder(tf.float32, shape = [None, 3])\n",
        "W = tf.Variable(tf.random_normal([4,nb_classes]), name = \"weight\")\n",
        "b = tf.Variable(tf.random_normal([nb_classes]), name = \"bias\")\n",
        "\n",
        "hypothesis = tf.nn.softmax(tf.matmul(X,W)+ b)\n",
        "cost = tf.reduce_mean(-tf.reduce_sum(Y * tf.log(hypothesis), axis = 1))\n",
        "optimizer = tf.train.GradientDescentOptimizer(learning_rate = 0.1).minimize(cost)\n",
        "\n",
        "sess = tf.Session()\n",
        "sess.run(tf.global_variables_initializer())\n",
        "\n",
        "for step in range(2001):\n",
        "  cost_val,_ = sess.run([cost,optimizer], feed_dict = {X : x_data, Y : y_data})\n",
        "  if step % 200 == 0:\n",
        "    print(step, cost_val)\n",
        "    \n",
        "print('--------------')\n",
        "a = sess.run(hypothesis, feed_dict = {X : [[1,11,7,9]]})\n",
        "print(a, sess.run(tf.argmax(a, 1)))\n",
        "print('--------------')\n",
        "b = sess.run(hypothesis, feed_dict = {X : [[1,3,4,3]]})\n",
        "print(b, sess.run(tf.argmax(b, 1)))\n",
        "print('--------------')\n",
        "c = sess.run(hypothesis, feed_dict = {X : [[1,1,0,1]]})\n",
        "print(c, sess.run(tf.argmax(c, 1)))\n",
        "print('--------------')\n",
        "all = sess.run(hypothesis, feed_dict = {X :  [[1, 11, 7, 9],\n",
        "               [1, 3, 4, 3],\n",
        "               [1, 1, 0, 1]]})\n",
        "print(all, sess.run(tf.argmax(all,1)))"
      ],
      "execution_count": 4,
      "outputs": [
        {
          "output_type": "stream",
          "text": [
            "0 3.862811\n",
            "200 0.54248315\n",
            "400 0.42817527\n",
            "600 0.33045882\n",
            "800 0.25154757\n",
            "1000 0.224703\n",
            "1200 0.2037518\n",
            "1400 0.18636793\n",
            "1600 0.17168146\n",
            "1800 0.15910137\n",
            "2000 0.14820315\n",
            "--------------\n",
            "[[9.900534e-04 9.990007e-01 9.251602e-06]] [1]\n",
            "--------------\n",
            "[[0.9407002  0.05359482 0.00570504]] [0]\n",
            "--------------\n",
            "[[9.9969704e-09 3.1985613e-04 9.9968016e-01]] [2]\n",
            "--------------\n",
            "[[9.9005341e-04 9.9900073e-01 9.2516020e-06]\n",
            " [9.4070017e-01 5.3594828e-02 5.7050413e-03]\n",
            " [9.9969713e-09 3.1985613e-04 9.9968016e-01]] [1 0 2]\n"
          ],
          "name": "stdout"
        }
      ]
    }
  ]
}