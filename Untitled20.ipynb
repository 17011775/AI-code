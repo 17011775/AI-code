{
  "nbformat": 4,
  "nbformat_minor": 0,
  "metadata": {
    "colab": {
      "name": "Untitled20.ipynb",
      "version": "0.3.2",
      "provenance": [],
      "include_colab_link": true
    },
    "kernelspec": {
      "name": "python3",
      "display_name": "Python 3"
    },
    "accelerator": "TPU"
  },
  "cells": [
    {
      "cell_type": "markdown",
      "metadata": {
        "id": "view-in-github",
        "colab_type": "text"
      },
      "source": [
        "<a href=\"https://colab.research.google.com/github/17011775/AI-code/blob/master/Untitled20.ipynb\" target=\"_parent\"><img src=\"https://colab.research.google.com/assets/colab-badge.svg\" alt=\"Open In Colab\"/></a>"
      ]
    },
    {
      "cell_type": "code",
      "metadata": {
        "id": "ztsPUoD7rWN7",
        "colab_type": "code",
        "colab": {
          "base_uri": "https://localhost:8080/",
          "height": 34
        },
        "outputId": "9531e79f-24a5-42a9-94f6-9579b4387d3c"
      },
      "source": [
        "import tensorflow as tf\n",
        "import numpy as np\n",
        "from keras.datasets import mnist\n",
        "from keras.utils import np_utils\n",
        "from keras.models import Sequential\n",
        "from keras.layers import Dense, Activation, Conv2D, MaxPooling2D, Flatten\n",
        "from keras.optimizers import SGD\n",
        "\n",
        "np.random.seed(777)\n",
        "classes = 10 \n",
        "def mnist_data():\n",
        "  img_rows = 28\n",
        "  img_cols = 28\n",
        "  (X_train, Y_train), (X_test, Y_test) = mnist.load_data()\n",
        "  X_train = X_train.reshape(X_train.shape[0], img_rows, img_cols, 1)\n",
        "  X_test = X_test.reshape(X_test.shape[0], img_rows, img_cols, 1)\n",
        "  input_shape = X_train.shape[1:]\n",
        "  print(input_shape)\n",
        "  \n",
        "  X_train = X_train.astype(np.float32) / 255\n",
        "  X_test = X_test.astype(np.float32) / 255\n",
        "  Y_train = np_utils.to_categorical(Y_train, classes)\n",
        "  Y_test = np_utils.to_categorical(Y_test, classes)\n",
        "  \n",
        "  return (X_train, Y_train), (X_test, Y_test), input_shape\n",
        "  \n",
        "def getModel(input_shape):\n",
        "  \n",
        "  filter_size = 16\n",
        "  kernel_size = (3,3)\n",
        "  pool_size = (2,2)\n",
        "  \n",
        "  m = Sequential()\n",
        "  m.add(Conv2D(filter_size, kernel_size, padding = 'same', input_shape = input_shape))\n",
        "  m.add(Activation('relu'))\n",
        "  m.add(Conv2D(filter_size, kernel_size, padding = 'same'))\n",
        "  m.add(Activation('relu'))\n",
        "  m.add(MaxPooling2D(pool_size))\n",
        "  \n",
        "  \n",
        "  m.add(Conv2D(filter_size * 2, kernel_size, padding = 'same'))\n",
        "  m.add(Activation('relu'))\n",
        "  m.add(Conv2D(filter_size * 2, kernel_size, padding = 'same'))\n",
        "  m.add(Activation('relu'))\n",
        "  m.add(Conv2D(filter_size * 2, kernel_size, padding = 'same'))\n",
        "  m.add(Activation('relu'))\n",
        "  m.add(MaxPooling2D(pool_size))\n",
        "  \n",
        "  \n",
        "  m.add(Flatten())\n",
        "  m.add(Dense(128))\n",
        "  m.add(Dense(classes))\n",
        "  m.add(Activation('softmax'))\n",
        "  \n",
        "  return m"
      ],
      "execution_count": 1,
      "outputs": [
        {
          "output_type": "stream",
          "text": [
            "Using TensorFlow backend.\n"
          ],
          "name": "stderr"
        }
      ]
    },
    {
      "cell_type": "code",
      "metadata": {
        "id": "N56Nx2l-J6bG",
        "colab_type": "code",
        "colab": {
          "base_uri": "https://localhost:8080/",
          "height": 406
        },
        "outputId": "ed25c96e-a726-4c2e-d6bb-e7e64ad089f0"
      },
      "source": [
        "(X_train, Y_train), (X_test, Y_test), input_shape = mnist_data()\n",
        "print(X_train.shape)\n",
        "\n",
        "model = getModel(input_shape)\n",
        "\n",
        "model.compile(loss = 'categorical_crossentropy', optimizer = 'adam', metrics = ['accuracy'])\n",
        "\n",
        "model.fit(X_train, Y_train, epochs = 5, batch_size = 32, verbose = 1)"
      ],
      "execution_count": 2,
      "outputs": [
        {
          "output_type": "stream",
          "text": [
            "Downloading data from https://s3.amazonaws.com/img-datasets/mnist.npz\n",
            "11493376/11490434 [==============================] - 0s 0us/step\n",
            "(28, 28, 1)\n",
            "(60000, 28, 28, 1)\n",
            "WARNING:tensorflow:From /usr/local/lib/python3.6/dist-packages/tensorflow/python/framework/op_def_library.py:263: colocate_with (from tensorflow.python.framework.ops) is deprecated and will be removed in a future version.\n",
            "Instructions for updating:\n",
            "Colocations handled automatically by placer.\n",
            "WARNING:tensorflow:From /usr/local/lib/python3.6/dist-packages/tensorflow/python/ops/math_ops.py:3066: to_int32 (from tensorflow.python.ops.math_ops) is deprecated and will be removed in a future version.\n",
            "Instructions for updating:\n",
            "Use tf.cast instead.\n",
            "Epoch 1/5\n",
            "60000/60000 [==============================] - 156s 3ms/step - loss: 0.1267 - acc: 0.9613\n",
            "Epoch 2/5\n",
            "60000/60000 [==============================] - 156s 3ms/step - loss: 0.0453 - acc: 0.9857\n",
            "Epoch 3/5\n",
            "60000/60000 [==============================] - 157s 3ms/step - loss: 0.0346 - acc: 0.9890\n",
            "Epoch 4/5\n",
            "60000/60000 [==============================] - 157s 3ms/step - loss: 0.0301 - acc: 0.9907\n",
            "Epoch 5/5\n",
            "60000/60000 [==============================] - 157s 3ms/step - loss: 0.0262 - acc: 0.9921\n"
          ],
          "name": "stdout"
        },
        {
          "output_type": "execute_result",
          "data": {
            "text/plain": [
              "<keras.callbacks.History at 0x7fd18a6af4e0>"
            ]
          },
          "metadata": {
            "tags": []
          },
          "execution_count": 2
        }
      ]
    },
    {
      "cell_type": "code",
      "metadata": {
        "id": "vdhiTfuMQFXD",
        "colab_type": "code",
        "colab": {
          "base_uri": "https://localhost:8080/",
          "height": 34
        },
        "outputId": "9a39e52a-0a61-4016-ba0d-7b48a0d14179"
      },
      "source": [
        "rst = model.evaluate(X_test, Y_test, verbose = 0)\n",
        "print('Test loss: ', rst[0], ', accuracy:', rst[1])"
      ],
      "execution_count": 3,
      "outputs": [
        {
          "output_type": "stream",
          "text": [
            "Test loss:  0.02577142399067525 , accuracy: 0.991\n"
          ],
          "name": "stdout"
        }
      ]
    }
  ]
}